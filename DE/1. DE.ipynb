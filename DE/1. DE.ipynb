{
 "cells": [
  {
   "cell_type": "code",
   "execution_count": null,
   "metadata": {},
   "outputs": [],
   "source": [
    "import numpy as np # type: ignore\n",
    "import random\n",
    "import copy\n",
    "import matplotlib.pyplot as plt # type: ignore"
   ]
  },
  {
   "cell_type": "code",
   "execution_count": null,
   "metadata": {},
   "outputs": [],
   "source": [
    "class Problem:\n",
    "    def __init__(self):\n",
    "        pass\n"
   ]
  },
  {
   "cell_type": "code",
   "execution_count": null,
   "metadata": {},
   "outputs": [],
   "source": [
    "def decode(chromosome, problem: Problem):\n",
    "    pass\n",
    "\n",
    "def get_fitness(x):\n",
    "    pass"
   ]
  },
  {
   "cell_type": "code",
   "execution_count": null,
   "metadata": {},
   "outputs": [],
   "source": [
    "class Individual:\n",
    "    def __init__(self):\n",
    "        self.chromosome = None\n",
    "        self.fitness = None\n",
    "\n",
    "    def genIndi(self, problem : Problem):\n",
    "        self.chromosome\n",
    "        # pass\n",
    "    def clone(self):\n",
    "        return copy.deepcopy(self)\n",
    "    \n",
    "    def cal_fitness(self, problem):\n",
    "        self.fitness = get_fitness(self.chromosome)\n",
    " \n",
    "    def __repr__(self):\n",
    "        return f\"chromosome={self.chromosome}, fitness={self.fitness}\" \n"
   ]
  },
  {
   "cell_type": "code",
   "execution_count": null,
   "metadata": {},
   "outputs": [],
   "source": [
    "def crossover(I_k, V_k, CR):\n",
    "    O_k = Individual()\n",
    "    O_k.chromosome = np.zeros(len(I_k.chromosome))\n",
    "    j = np.random.randint(0, len(I_k.chromosome))\n",
    "    for i in range(len(I_k.chromosome)):\n",
    "        if np.random.rand() <= CR or i == j:\n",
    "            O_k.chromosome[i] = V_k.chromosome[i]\n",
    "        else:\n",
    "            O_k.chromosome[i] = I_k.chromosome[i]\n",
    "    O_k.chromosome = np.clip(O_k.chromosome, 0, 1)\n",
    "    return O_k.clone()\n",
    "\n",
    "def mutation(parent: list, F):\n",
    "    V_k = Individual()\n",
    "    a = np.zeros(len(parent[0].chromosome))\n",
    "    b = np.zeros(len(parent[0].chromosome))\n",
    "\n",
    "    for i in range(len(parent)):\n",
    "        if i % 2:\n",
    "            a += parent[i].chromosome\n",
    "        else:\n",
    "            b += parent[i].chromosome\n",
    "            \n",
    "    V_k.chromosome = parent[-1].chromosome + F * (a - b)\n",
    "    V_k.chromosome = np.clip(V_k.chromosome, 0, 1)\n",
    "    return V_k.clone()"
   ]
  },
  {
   "cell_type": "code",
   "execution_count": null,
   "metadata": {},
   "outputs": [],
   "source": [
    "class Population:\n",
    "    def __init__(self, pop_size, problem : Problem):\n",
    "        self.pop_size = pop_size\n",
    "        self.list_indi = []\n",
    "        self.problem = problem\n",
    "    \n",
    "    def genPop(self):\n",
    "        for i in range(self.pop_size):\n",
    "            indi = Individual()\n",
    "            indi.genIndi(self.problem)\n",
    "            indi.cal_fitness(self.problem)\n",
    "            self.list_indi.append(indi)\n",
    "\n",
    "    def __str__(self):\n",
    "        result = f\"pop_size = {self.pop_size}\\n\"\n",
    "        result += \"\\n\".join(str(indi) for indi in self.list_indi)\n",
    "        return result"
   ]
  },
  {
   "cell_type": "code",
   "execution_count": null,
   "metadata": {},
   "outputs": [],
   "source": [
    "class Selection:\n",
    "    @staticmethod\n",
    "    def rand(pop: list, curr_index, y):\n",
    "        indices = list(range(len(pop)))\n",
    "        indices.remove(curr_index)\n",
    "        res_index = random.sample(indices, 2 * y + 1)\n",
    "        return [pop[i] for i in res_index]\n",
    "    \n",
    "    @staticmethod\n",
    "    def best(pop: list, curr_index, y):\n",
    "        indices = list(range(len(pop)))\n",
    "        best_index = max(range(len(pop)), key=lambda i: pop[i].fitness)\n",
    "        indices.remove(curr_index)\n",
    "        if best_index != curr_index:\n",
    "            indices.remove(best_index)\n",
    "        res_index = random.sample(indices, 2 * y)\n",
    "        res_index.append(best_index)\n",
    "        return [pop[i] for i in res_index]\n",
    "    \n",
    "    @staticmethod\n",
    "    def current_to_best(pop: list, curr_index, y):\n",
    "        indices = list(range(len(pop)))\n",
    "        best_index = max(range(len(pop)), key=lambda i: pop[i].fitness)\n",
    "        indices.remove(curr_index)\n",
    "        if best_index != curr_index:\n",
    "            indices.remove(best_index)\n",
    "        res_index = random.sample(indices, 2 * y)\n",
    "        res_index.insert(0, curr_index)\n",
    "        res_index.insert(0, best_index)\n",
    "        res_index.append(curr_index)\n",
    "        return [pop[i] for i in res_index]"
   ]
  },
  {
   "cell_type": "code",
   "execution_count": null,
   "metadata": {},
   "outputs": [],
   "source": [
    "def survival_selection(xj, uj):\n",
    "    if xj.fitness > uj.fitness:\n",
    "        return xj.clone()\n",
    "    else:\n",
    "        return uj.clone()"
   ]
  },
  {
   "cell_type": "code",
   "execution_count": null,
   "metadata": {},
   "outputs": [],
   "source": [
    "def DE(problem, pop_size, max_gen, F, CR):\n",
    "    pop = Population(pop_size, problem)\n",
    "    pop.genPop()\n",
    "    history = []\n",
    "    for i in range(max_gen):\n",
    "        best = max(pop.list_indi, key=lambda indi: indi.fitness)\n",
    "        for k, I_k in enumerate(pop.list_indi):\n",
    "            parent = Selection.best(pop.list_indi, k, 5)\n",
    "            V_k = mutation(parent, F)\n",
    "            O_k = crossover(V_k, I_k, CR)\n",
    "            O_k.cal_fitness(problem)\n",
    "            pop.list_indi[k] = survival_selection(I_k, O_k)\n",
    "        history.append(best.fitness)\n",
    "    solution = max(pop.list_indi, key=lambda indi: indi.fitness)\n",
    "    return history, solution\n"
   ]
  },
  {
   "cell_type": "code",
   "execution_count": null,
   "metadata": {},
   "outputs": [],
   "source": [
    "# setup\n",
    "problem = Problem()\n",
    "# pass\n",
    "pop_size = 200\n",
    "max_gen = 2000\n",
    "Pc = 0.9\n",
    "Pm = 0.2\n",
    "\n",
    "# start\n",
    "fitness_history, solution = DE(problem, pop_size, max_gen, Pc, Pm)\n",
    "\n",
    "#show\n",
    "for i in range(len(fitness_history)):\n",
    "    print(f\"Generation {i}, bestfitness = {fitness_history[i]:.2f}\")\n"
   ]
  },
  {
   "cell_type": "code",
   "execution_count": null,
   "metadata": {},
   "outputs": [],
   "source": [
    "#show\n",
    "np.set_printoptions(precision=2, suppress=True)\n",
    "print(\"solution:\")\n",
    "print(decode(solution.chromosome, problem))\n",
    "print(f\"{solution.fitness:.2f}\")"
   ]
  },
  {
   "cell_type": "code",
   "execution_count": null,
   "metadata": {},
   "outputs": [],
   "source": [
    "generations = list(range(len(fitness_history)))\n",
    "plt.figure(figsize=(10, 5))\n",
    "plt.plot(generations, fitness_history, marker='o', linestyle='-', color='b', label='Best Fitness')\n",
    "plt.xlabel(\"Generation\")\n",
    "plt.ylabel(\"Best Fitness\")\n",
    "plt.title(\"Fitness Progress Over Generations\")\n",
    "plt.legend()\n",
    "plt.grid(True)\n",
    "plt.show()"
   ]
  },
  {
   "cell_type": "markdown",
   "metadata": {},
   "source": []
  }
 ],
 "metadata": {
  "kernelspec": {
   "display_name": "Python 3",
   "language": "python",
   "name": "python3"
  },
  "language_info": {
   "codemirror_mode": {
    "name": "ipython",
    "version": 3
   },
   "file_extension": ".py",
   "mimetype": "text/x-python",
   "name": "python",
   "nbconvert_exporter": "python",
   "pygments_lexer": "ipython3",
   "version": "3.13.2"
  }
 },
 "nbformat": 4,
 "nbformat_minor": 2
}
