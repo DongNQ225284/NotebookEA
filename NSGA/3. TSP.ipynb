{
 "cells": [
  {
   "cell_type": "code",
   "execution_count": null,
   "metadata": {},
   "outputs": [],
   "source": [
    "import numpy as np\n",
    "import random\n",
    "import copy\n",
    "import matplotlib.pyplot as plt"
   ]
  },
  {
   "cell_type": "code",
   "execution_count": 4,
   "metadata": {},
   "outputs": [],
   "source": [
    "class Problem:\n",
    "    def __init__(self):\n",
    "        pass\n",
    "    "
   ]
  },
  {
   "cell_type": "code",
   "execution_count": 5,
   "metadata": {},
   "outputs": [],
   "source": [
    "def decode(chromosome, problem: Problem):\n",
    "    pass\n",
    "\n",
    "def get_fitness(chromosome, problem : Problem):\n",
    "    pass"
   ]
  },
  {
   "cell_type": "code",
   "execution_count": null,
   "metadata": {},
   "outputs": [],
   "source": [
    "class Individual:\n",
    "    def __init__(self):\n",
    "        self.chromosome = None\n",
    "        self.fitness    = None # array\n",
    "\n",
    "    def gen_indi(self, problem : Problem):\n",
    "        self.chromosome\n",
    "        # pass\n",
    "    \n",
    "    def cal_fitness(self, problem):\n",
    "        self.fitness = get_fitness(self.chromosome)\n",
    "\n",
    "    def clone(self):\n",
    "        return copy.deepcopy(self)\n",
    "    \n",
    "    def __lt__(self, other):\n",
    "        return np.all(self.fitness <= other.fitness) and np.any(self.fitness < other.fitness)\n",
    "    \n",
    "    def __repr__(self):\n",
    "        return f\"chromosome={self.chromosome}, fitness={self.fitness}\" \n",
    "    \n",
    "    \n"
   ]
  },
  {
   "cell_type": "code",
   "execution_count": null,
   "metadata": {},
   "outputs": [],
   "source": [
    "# Simulated binary crossover - SBX\n",
    "def crossover(parent1, parent2, problem : Problem, eta = 2.0):\n",
    "    off1 = Individual()\n",
    "    off2 = Individual()\n",
    "    r = np.random.rand()\n",
    "    if (r <= 0.5):\n",
    "        beta = (2*r)**(1.0/(eta + 1))\n",
    "    else:\n",
    "        beta = (1.0/(2*(1 - r)))**(1.0/(eta + 1))\n",
    "    p1 = parent1.chromosome\n",
    "    p2 = parent2.chromosome\n",
    "    c1 = 0.5 * ((1 + beta) * p1 + (1 - beta) * p2)\n",
    "    c2 = 0.5 * ((1 - beta) * p1 + (1 + beta) * p2)\n",
    "    c1 = np.clip(c1, 0.0, 1.0)\n",
    "    c2 = np.clip(c2, 0.0, 1.0)\n",
    "    off1.chromosome = c1\n",
    "    off2.chromosome = c2\n",
    "    return off1.clone(), off2.clone()"
   ]
  },
  {
   "cell_type": "code",
   "execution_count": 9,
   "metadata": {},
   "outputs": [],
   "source": [
    "# Polynomial mutaion - PM\n",
    "def mutation(indi, eta = 20.0):\n",
    "    chr = indi.chromosome\n",
    "    for i in range(chr.size):\n",
    "        mu = np.random.rand()\n",
    "        if (mu <= 0.5):\n",
    "            delta = (2 * mu)**(1.0/(1 + eta)) - 1\n",
    "            chr[i] = chr[i] + delta * chr[i]\n",
    "        else:\n",
    "            delta = 1 - (2 - 2*mu)**(1.0/(1 + eta))\n",
    "            chr[i] = chr[i] + delta * (1 - chr[i])\n",
    "            \n",
    "    chr = np.clip(chr, 0.0, 1.0)\n",
    "    indi.chromosome = chr\n",
    "    return indi.clone()"
   ]
  },
  {
   "cell_type": "code",
   "execution_count": null,
   "metadata": {},
   "outputs": [],
   "source": [
    "class Population:\n",
    "    def __init__(self, pop_size, problem : Problem):\n",
    "        self.pop_size = pop_size\n",
    "        self.list_indi = []\n",
    "        self.problem = problem\n",
    "    \n",
    "    def gen_pop(self):\n",
    "        for i in range(self.pop_size):\n",
    "            indi = Individual()\n",
    "            indi.genIndi(self.problem)\n",
    "            indi.cal_fitness(self.problem)\n",
    "            self.list_indi.append(indi)\n"
   ]
  },
  {
   "cell_type": "code",
   "execution_count": 11,
   "metadata": {},
   "outputs": [],
   "source": [
    "def selection(list, k = 4):\n",
    "    tour1 = random.sample(list, k)\n",
    "    tour2 = random.sample(list, k)\n",
    "    x = max(tour1, key=lambda indi: indi.fitness)\n",
    "    y = max(tour2, key=lambda indi: indi.fitness)\n",
    "    return x, y \n"
   ]
  },
  {
   "cell_type": "code",
   "execution_count": null,
   "metadata": {},
   "outputs": [],
   "source": [
    "def fast_nodominated_sort(pop: list):\n",
    "    p_n = np.zeros(len(pop), dtype=int)\n",
    "    p_S = []\n",
    "\n",
    "    for i, p in enumerate(pop):\n",
    "        Q = []\n",
    "        for j, q in enumerate(pop):\n",
    "            if i == j:\n",
    "                continue\n",
    "            if p < q:\n",
    "                p_n[j] += 1\n",
    "                Q.append[j]\n",
    "        p_S.append(Q)\n",
    "\n",
    "    paretos = [[i for i in range(len(pop)) if p_n[i] == 0]]\n",
    "\n",
    "    while True:\n",
    "        next_pareto = []\n",
    "        for i in paretos[-1]:\n",
    "            for j in p_S[i]:\n",
    "                p_n[j] -= 1\n",
    "                if p_n[j] == 0:\n",
    "                    next_pareto.append(j)\n",
    "        if len(next_pareto) == 0:\n",
    "            break\n",
    "        paretos.append(next_pareto)\n",
    "    \n",
    "    real_patetos = []\n",
    "    for pr in paretos:\n",
    "        real_patetos.append([pop[idx] for idx in pr])\n",
    "\n",
    "    return real_patetos"
   ]
  },
  {
   "cell_type": "code",
   "execution_count": 14,
   "metadata": {},
   "outputs": [],
   "source": [
    "def assign_crowding_distance(pop: list):\n",
    "    if (len(pop) < 3):\n",
    "        return pop\n",
    "    indices = list(range(len(pop)))\n",
    "    I = np.zeros(len(pop), dtype=float)\n",
    "\n",
    "    for k in range(len(pop[0].fitness)):\n",
    "        fk = [p.fitness[k] for p in pop]\n",
    "        indices = np.argsort(fk)\n",
    "\n",
    "        lim = fk[indices[-1]] - fk[indices[0]]\n",
    "\n",
    "        I[indices[0]] = I[indices[-1]] = 1e9\n",
    "\n",
    "        for i in range(1, indices.size - 1):\n",
    "            I[indices[i]] += (fk[indices[i + 1]] - fk[indices[i - 1]]) / lim\n",
    "    \n",
    "    indices = np.argsort(I)\n",
    "    new_pop = [pop[i] for i in indices]\n",
    "    return new_pop\n"
   ]
  },
  {
   "cell_type": "code",
   "execution_count": null,
   "metadata": {},
   "outputs": [],
   "source": [
    "def survival_selection(list, pop_size):\n",
    "    paretos = fast_nodominated_sort(list)\n",
    "    for front in paretos:\n",
    "        front = assign_crowding_distance(front)\n",
    "    next_gen = []\n",
    "    for front in paretos:\n",
    "        for indi in front:\n",
    "            next_gen.append(indi)\n",
    "            pop_size -= 1\n",
    "            if pop_size == 0:\n",
    "                return next_gen\n",
    "    return next_gen"
   ]
  },
  {
   "cell_type": "code",
   "execution_count": null,
   "metadata": {},
   "outputs": [],
   "source": [
    "def NSGAII(problem, pop_size, max_gen, p_c, p_m):\n",
    "    pop = Population(pop_size, problem)\n",
    "    pop.gen_pop()\n",
    "    for i in range(max_gen):\n",
    "        nextPop = []\n",
    "        while (len(nextPop) < pop_size):\n",
    "            p1, p2 = selection(pop.list_indi)\n",
    "            c1 = Individual()\n",
    "            c2 = Individual()\n",
    "            if np.random.rand() <= p_c:\n",
    "                c1, c2 = crossover(p1, p2, problem)\n",
    "                c1.cal_fitness(problem)\n",
    "                c2.cal_fitness(problem)\n",
    "                nextPop.append(c1)\n",
    "                nextPop.append(c2)\n",
    "            if np.random.rand() <= p_m:\n",
    "                p1 = mutation(p1)\n",
    "                p2 = mutation(p2)\n",
    "                p1.cal_fitness(problem)\n",
    "                p2.cal_fitness(problem)\n",
    "                nextPop.append(p1)\n",
    "                nextPop.append(p2)\n",
    "        pop.list_indi = survival_selection(nextPop, pop_size)\n",
    "    paretos = fast_nodominated_sort(pop.list_indi)\n",
    "    pareto_front = list(set(paretos))\n",
    "    return pareto_front"
   ]
  }
 ],
 "metadata": {
  "kernelspec": {
   "display_name": "Python 3",
   "language": "python",
   "name": "python3"
  },
  "language_info": {
   "codemirror_mode": {
    "name": "ipython",
    "version": 3
   },
   "file_extension": ".py",
   "mimetype": "text/x-python",
   "name": "python",
   "nbconvert_exporter": "python",
   "pygments_lexer": "ipython3",
   "version": "3.10.11"
  }
 },
 "nbformat": 4,
 "nbformat_minor": 2
}
