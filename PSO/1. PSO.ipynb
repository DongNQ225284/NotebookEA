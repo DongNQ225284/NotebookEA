{
 "cells": [
  {
   "cell_type": "markdown",
   "metadata": {},
   "source": [
    "# Particle Swarm Opimization\n",
    "\n",
    "Đây là thuật toán lấy cảm hứng từ sự hợp tác trong bầy đàn."
   ]
  },
  {
   "cell_type": "code",
   "execution_count": null,
   "metadata": {},
   "outputs": [],
   "source": [
    "import numpy as np # type: ignore\n",
    "import matplotlib.pyplot as plt # type: ignore"
   ]
  },
  {
   "cell_type": "code",
   "execution_count": null,
   "metadata": {},
   "outputs": [],
   "source": [
    "class Problem:\n",
    "    def __init__(self):\n",
    "        pass"
   ]
  },
  {
   "cell_type": "code",
   "execution_count": null,
   "metadata": {},
   "outputs": [],
   "source": [
    "def decode(position, problem: Problem):\n",
    "    pass\n",
    "\n",
    "def get_fitness(x, problem : Problem):\n",
    "    pass"
   ]
  },
  {
   "cell_type": "code",
   "execution_count": null,
   "metadata": {},
   "outputs": [],
   "source": [
    "class Individual:\n",
    "    def __init__(self):\n",
    "        self.position = None\n",
    "        self.fitness = None \n",
    "        self.velocity = None\n",
    "        self.bestFitness = None\n",
    "        self.bestPosition = None\n",
    "    \n",
    "    def gen_indi(self, problem : Problem):\n",
    "        # self.velocity = ...\n",
    "        # self.position = ...\n",
    "        self.fitness = get_fitness(decode(self.position, problem), problem)\n",
    "        self.bestFitness = self.fitness\n",
    "        self.bestPosition = self.position\n",
    "\n",
    "    def cal_fitness(self, problem : Problem):\n",
    "        sol = decode(self.position, problem)\n",
    "        self.fitness = get_fitness(sol, problem)\n",
    "        if self.bestFitness > self.fitness:\n",
    "            self.bestFitness = self.fitness\n",
    "            self.bestPosition = self.position\n",
    "    \n",
    "    def __repr__(self):\n",
    "        result = f\"position: {self.position},   fitness: {self.fitness}\\n\"\n",
    "        result += f\"bestPosition: {self.bestChromosome},   bestFitness: {self.bestFitness}\"\n",
    "        return result\n",
    "    \n",
    "    def move(self, global_best_position, w, c1, c2):\n",
    "        r1 = np.random.rand()\n",
    "        r2 = np.random.rand()\n",
    "        self.velocity = w * self.velocity + r1 * c1 * (self.bestPosition - self.position) + r2 * c2 * (global_best_position - self.position)\n",
    "        self.position += self.velocity\n",
    "        self.position = np.clip(self.position, 0, 1)\n"
   ]
  },
  {
   "cell_type": "code",
   "execution_count": null,
   "metadata": {},
   "outputs": [],
   "source": [
    "class Population:\n",
    "    def __init__(self, pop_size, problem : Problem):\n",
    "        self.pop_size = pop_size\n",
    "        self.problem = problem \n",
    "        self.list_indi = []\n",
    "        self.global_best_position = None\n",
    "        self.global_best_fitness = None\n",
    "\n",
    "    def gen_pop(self):\n",
    "        f_indi = Individual()\n",
    "        f_indi.gen_indi(self.problem)\n",
    "        self.global_best_fitness = f_indi.fitness\n",
    "        self.global_best_position = f_indi.position\n",
    "        self.list_indi.append(f_indi)\n",
    "\n",
    "        for i in range(1, self.pop_size):\n",
    "            indi = Individual()\n",
    "            indi.gen_indi(self.problem)\n",
    "            if self.global_best_fitness > indi.fitness:\n",
    "                self.global_best_fitness = indi.fitness\n",
    "                self.global_best_position = indi.position\n",
    "            self.list_indi.append(indi)\n"
   ]
  },
  {
   "cell_type": "code",
   "execution_count": null,
   "metadata": {},
   "outputs": [],
   "source": [
    "def PSO(problem: Problem, pop_size, max_gen, w, c1, c2):\n",
    "    pop = Population(pop_size, problem)\n",
    "    pop.gen_pop()\n",
    "    history = []\n",
    "    for i in range(max_gen):\n",
    "        for indi in pop.list_indi:\n",
    "            indi.move(pop.global_best_position, w, c1, c2)\n",
    "            indi.cal_fitness(problem)\n",
    "            if pop.global_best_fitness > indi.fitness:\n",
    "                pop.global_best_fitness = indi.fitness\n",
    "                pop.global_best_position = indi.position\n",
    "        history.append(pop.global_best_fitness)\n",
    "    return history, pop.global_best_position"
   ]
  },
  {
   "cell_type": "code",
   "execution_count": null,
   "metadata": {},
   "outputs": [],
   "source": [
    "#setup\n",
    "\n",
    "\n",
    "problem = Problem()\n",
    "\n",
    "pop_size = 10\n",
    "max_gen = 500\n",
    "w = 0.2\n",
    "c1 = 2\n",
    "c2 = 4\n",
    "\n",
    "fitness_history, solution = PSO(problem, pop_size, max_gen, w, c1, c2)\n",
    "\n",
    "#show\n",
    "for i in range(len(fitness_history)):\n",
    "    print(f\"Generation {i}, bestfitness = {fitness_history[i]:.2f}\")"
   ]
  },
  {
   "cell_type": "code",
   "execution_count": null,
   "metadata": {},
   "outputs": [],
   "source": [
    "generations = list(range(len(fitness_history)))\n",
    "plt.figure(figsize=(10, 5))\n",
    "plt.plot(generations, fitness_history, marker='o', linestyle='-', color='b', label='Best Fitness')\n",
    "\n",
    "plt.xlabel(\"Generation\")\n",
    "plt.ylabel(\"Best Fitness\")\n",
    "plt.title(\"Fitness Progress Over Generations\")\n",
    "plt.legend()\n",
    "plt.grid(True)\n",
    "plt.show()"
   ]
  }
 ],
 "metadata": {
  "kernelspec": {
   "display_name": "Python 3",
   "language": "python",
   "name": "python3"
  },
  "language_info": {
   "codemirror_mode": {
    "name": "ipython",
    "version": 3
   },
   "file_extension": ".py",
   "mimetype": "text/x-python",
   "name": "python",
   "nbconvert_exporter": "python",
   "pygments_lexer": "ipython3",
   "version": "3.13.2"
  }
 },
 "nbformat": 4,
 "nbformat_minor": 2
}
